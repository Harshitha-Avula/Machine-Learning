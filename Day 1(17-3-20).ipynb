{
 "cells": [
  {
   "cell_type": "markdown",
   "metadata": {},
   "source": [
    "<pra>classification \n",
    "    - Binary(flight delay or on time)i/p:historic flight data\n",
    "    - multiclass(iris flower(setosa,versicolor,virginica)i/p: each one having sepal length,sepal width and petal length,petal width\n",
    "    - sentiment analysis(classifying the comments)\n",
    "    - anomaly detection\n",
    "Regression(predict the salary of the employee)\n",
    "Recommender systems(amazon,flipcart,zomato,swiggy)\n",
    "Reinforcement learning(cat in home get reward for positive response as food)    \n",
    "NLP\n",
    "    - Q & A\n",
    "    - Auto completion(search engines)\n",
    "    - chatbot(dominos)\n",
    "Computer vision\n",
    "    - object detection\n",
    "    - object tracking\n",
    "    - image classification\n",
    "    - image tagging\n",
    "Data \n",
    "    - numerical data\n",
    "    - image data\n",
    "    - audio data\n",
    "    - video data\n",
    "    - text data\n",
    "    - from documents\n",
    "    - satelite imagery\n",
    "    - Time series data(temperature regarding)<pra>"
   ]
  },
  {
   "cell_type": "markdown",
   "metadata": {},
   "source": [
    "#### What are csv and tsv files?\n",
    " Tab separated values(Tsv) and comma separated values(csv) are the two types of extensions used to load the set of data. TSV extension files are more efficient for many applications in programming languages like javascript, tensorflow etc. Also, in a TSV file rows and columns are easily distinguishable. CSV files are used more in fields like machine learning, data analysis, deep learning. Both the types of files are highly used in Data Science related fields.\n",
    "    \n",
    "#### What are packages available to handle csv data?\n",
    "    1.Load CSV with Python Standard Library\n",
    "    The Python API provides the module CSV and the function reader() that can be used to load CSV files.Once loaded, you convert the CSV data to a NumPy array and use it for machine learning.\n",
    "        Ex:import csv\n",
    "        import numpy\n",
    "        filename = 'pima-indians-diabetes.data.csv'\n",
    "        raw_data = open(filename, 'rt')\n",
    "        reader = csv.reader(raw_data, delimiter=',', quoting=csv.QUOTE_NONE)\n",
    "        x = list(reader)\n",
    "        data = numpy.array(x).astype('float')\n",
    "        print(data.shape)\n",
    "        \n",
    "    2.Load CSV File With NumPy\n",
    "    You can load your CSV data using NumPy and the numpy.loadtxt() function.\n",
    "        Ex:import numpy\n",
    "        filename = 'pima-indians-diabetes.data.csv'\n",
    "        raw_data = open(filename, 'rt')\n",
    "        data = numpy.loadtxt(raw_data, delimiter=\",\")\n",
    "        print(data.shape)\n",
    "        (or)\n",
    "        from numpy import loadtxt\n",
    "        from urllib.request import urlopen\n",
    "        url = 'https://raw.githubusercontent.com/jbrownlee/Datasets/master/pima-indians-diabetes.data.csv'\n",
    "        raw_data = urlopen(url)\n",
    "        dataset = loadtxt(raw_data, delimiter=\",\")\n",
    "        print(dataset.shape)\n",
    "        \n",
    "    3.Load CSV File With Pandas\n",
    "    You can load your CSV data using Pandas and the pandas.read_csv() function.\n",
    "        Ex:import pandas\n",
    "        filename = 'pima-indians-diabetes.data.csv'\n",
    "        names = ['preg', 'plas', 'pres', 'skin', 'test', 'mass', 'pedi', 'age', 'class']\n",
    "        data = pandas.read_csv(filename, names=names)\n",
    "        print(data.shape)\n",
    "        \n",
    "#### What is json format?\n",
    "- How to handle json data?\n",
    "- What are packages available for image data?\n",
    "- What are the packages available for audio data?\n",
    "- With all the packages above check how to read the data?\n",
    "- How to display the same data?"
   ]
  },
  {
   "cell_type": "markdown",
   "metadata": {},
   "source": [
    "#### QUS: Replace comma into the file sample.csv with tab and store it in a file as tsv format.\n",
    "- i/p : A csv file\n",
    "- o/p : Is a tsv file with same data(file handling)<pra>"
   ]
  },
  {
   "cell_type": "code",
   "execution_count": 103,
   "metadata": {},
   "outputs": [],
   "source": [
    "f=open(\"sample.csv\",'r')\n",
    "n=f.read()\n",
    "#print(n)\n",
    "a=\"\"\n",
    "for i in n:\n",
    "    n=n.replace(',','\\t')\n",
    "    f1=open(\"tsvfile.tsv\",'w')\n",
    "    f1.write(n)"
   ]
  },
  {
   "cell_type": "markdown",
   "metadata": {},
   "source": [
    "### Lists"
   ]
  },
  {
   "cell_type": "code",
   "execution_count": 1,
   "metadata": {},
   "outputs": [
    {
     "data": {
      "text/plain": [
       "[1, 2, 3, 4, 1, 2, 3, 4]"
      ]
     },
     "execution_count": 1,
     "metadata": {},
     "output_type": "execute_result"
    }
   ],
   "source": [
    "l1=[1,2,3,4]\n",
    "l2=[1,2,3,4]\n",
    "l1+l2"
   ]
  },
  {
   "cell_type": "code",
   "execution_count": 2,
   "metadata": {},
   "outputs": [
    {
     "name": "stdout",
     "output_type": "stream",
     "text": [
      "[2, 4, 6, 8]\n"
     ]
    }
   ],
   "source": [
    "o=[]\n",
    "for i in range(len(l1)):\n",
    "    o.append(l1[i]+l2[i])\n",
    "print(o)"
   ]
  },
  {
   "cell_type": "code",
   "execution_count": 20,
   "metadata": {},
   "outputs": [
    {
     "name": "stdout",
     "output_type": "stream",
     "text": [
      "[2, 4, 6, 8]\n"
     ]
    }
   ],
   "source": [
    "# list comprehension\n",
    "h=[l1[i]+l2[i] for i in range(len(l1))]\n",
    "print(h)"
   ]
  },
  {
   "cell_type": "code",
   "execution_count": 18,
   "metadata": {},
   "outputs": [
    {
     "name": "stdout",
     "output_type": "stream",
     "text": [
      "[2, 4, 8]\n"
     ]
    }
   ],
   "source": [
    "# print which are not multiples of 3\n",
    "a=[l1[i]+l2[i] for i in range(len(l1)) if h[i]%3!=0]\n",
    "print(a)"
   ]
  },
  {
   "cell_type": "code",
   "execution_count": 21,
   "metadata": {},
   "outputs": [
    {
     "data": {
      "text/plain": [
       "[2, 4, -1, 8]"
      ]
     },
     "execution_count": 21,
     "metadata": {},
     "output_type": "execute_result"
    }
   ],
   "source": [
    "# replace the multiples of 3  with -1\n",
    "out=[i if i%3!=0 else -1 for i in h]\n",
    "out"
   ]
  },
  {
   "cell_type": "code",
   "execution_count": 24,
   "metadata": {},
   "outputs": [
    {
     "data": {
      "text/plain": [
       "[2, 4, 6, 8, 2, 8, 9, 6, 2, 8, 9, 6, 2, 8, 9, 6]"
      ]
     },
     "execution_count": 24,
     "metadata": {},
     "output_type": "execute_result"
    }
   ],
   "source": [
    "h.extend([2,8,9,6])\n",
    "h"
   ]
  },
  {
   "cell_type": "code",
   "execution_count": 25,
   "metadata": {},
   "outputs": [
    {
     "data": {
      "text/plain": [
       "[2, 4, 6, 8, 2, 8, 9, 6, 2, 8, 9, 6, 2, 8, 9, 6]"
      ]
     },
     "execution_count": 25,
     "metadata": {},
     "output_type": "execute_result"
    }
   ],
   "source": [
    "h"
   ]
  },
  {
   "cell_type": "code",
   "execution_count": 26,
   "metadata": {},
   "outputs": [
    {
     "name": "stdout",
     "output_type": "stream",
     "text": [
      "[-2, -2, -2, -2, -2, -2, -1, -2, -2, -2, -1, -2, -2, -2, -1, -2]\n"
     ]
    }
   ],
   "source": [
    "# replace multiples of 2 with -2\n",
    "# replace multiples of 3 with -1\n",
    "s=[]\n",
    "for i in h:\n",
    "    if i%2==0:\n",
    "        s.append(-2)\n",
    "    elif i%3==0:\n",
    "        s.append(-1)\n",
    "    else:\n",
    "        s.append(i)\n",
    "        \n",
    "print(s)"
   ]
  },
  {
   "cell_type": "code",
   "execution_count": 29,
   "metadata": {},
   "outputs": [
    {
     "data": {
      "text/plain": [
       "[-2, -2, -2, -2, -2, -2, -1, -2, -2, -2, -1, -2, -2, -2, -1, -2]"
      ]
     },
     "execution_count": 29,
     "metadata": {},
     "output_type": "execute_result"
    }
   ],
   "source": [
    "# replace multiples of 2 with -2\n",
    "# replace multiples of 3 with -1\n",
    "out1=[-2 if i%2==0 else -1 if i%3==0 else i for i in h]\n",
    "out1"
   ]
  },
  {
   "cell_type": "markdown",
   "metadata": {},
   "source": [
    "### list comprehension with nested for loop"
   ]
  },
  {
   "cell_type": "code",
   "execution_count": 30,
   "metadata": {},
   "outputs": [
    {
     "data": {
      "text/plain": [
       "([1, 2, 3, 4], [1, 2, 3, 4])"
      ]
     },
     "execution_count": 30,
     "metadata": {},
     "output_type": "execute_result"
    }
   ],
   "source": [
    "l1,l2"
   ]
  },
  {
   "cell_type": "code",
   "execution_count": 33,
   "metadata": {},
   "outputs": [
    {
     "data": {
      "text/plain": [
       "[2, 3, 4, 5, 3, 4, 5, 6, 4, 5, 6, 7, 5, 6, 7, 8]"
      ]
     },
     "execution_count": 33,
     "metadata": {},
     "output_type": "execute_result"
    }
   ],
   "source": [
    "a1=[(i+j) for i in l1 for j in l2]\n",
    "a1"
   ]
  },
  {
   "cell_type": "code",
   "execution_count": 37,
   "metadata": {},
   "outputs": [
    {
     "data": {
      "text/plain": [
       "[(1, 23),\n",
       " (1, 45),\n",
       " (1, 78),\n",
       " (1, 96),\n",
       " (1, 56),\n",
       " (1, 12),\n",
       " (2, 23),\n",
       " (2, 45),\n",
       " (2, 78),\n",
       " (2, 96),\n",
       " (2, 56),\n",
       " (2, 12),\n",
       " (3, 23),\n",
       " (3, 45),\n",
       " (3, 78),\n",
       " (3, 96),\n",
       " (3, 56),\n",
       " (3, 12),\n",
       " (4, 23),\n",
       " (4, 45),\n",
       " (4, 78),\n",
       " (4, 96),\n",
       " (4, 56),\n",
       " (4, 12)]"
      ]
     },
     "execution_count": 37,
     "metadata": {},
     "output_type": "execute_result"
    }
   ],
   "source": [
    "l2=[[23,45],[78,96],[56,12]]\n",
    "# o/p =[23,45,78,96,56,12]\n",
    "num=[(i,k) for i in l1 for j in l2 for k in j]\n",
    "num"
   ]
  },
  {
   "cell_type": "code",
   "execution_count": 38,
   "metadata": {},
   "outputs": [
    {
     "data": {
      "text/plain": [
       "[23, 45, 78, 96, 56, 12]"
      ]
     },
     "execution_count": 38,
     "metadata": {},
     "output_type": "execute_result"
    }
   ],
   "source": [
    "l2=[[23,45],[78,96],[56,12]]\n",
    "# o/p =[23,45,78,96,56,12]\n",
    "n1=[i for j in l2 for i in j]\n",
    "n1"
   ]
  },
  {
   "cell_type": "code",
   "execution_count": 48,
   "metadata": {},
   "outputs": [
    {
     "name": "stdout",
     "output_type": "stream",
     "text": [
      "[5, 7, 9, 11, 13, 15, 17, 19] [1, 3, 5, 7, 9, 11, 13, 15, 17, 19]\n"
     ]
    }
   ],
   "source": [
    "# common elements in two lists using list comprehension\n",
    "l3=list(range(5,20,2))\n",
    "l4=list(range(1,20,2))\n",
    "print(l3,l4)"
   ]
  },
  {
   "cell_type": "code",
   "execution_count": 50,
   "metadata": {},
   "outputs": [
    {
     "name": "stdout",
     "output_type": "stream",
     "text": [
      "[5, 7, 9, 11, 13, 15, 17, 19]\n",
      "[5, 7, 9, 11, 13, 15, 17, 19]\n"
     ]
    }
   ],
   "source": [
    "n=[i for i in l3 for j in l4 if i==j]\n",
    "print(n)\n",
    "n2=[i for j in l4 for i in l3 if i==j]\n",
    "print(n2)"
   ]
  },
  {
   "cell_type": "markdown",
   "metadata": {},
   "source": [
    "# numpy(numerical python)\n",
    "- vectorized programming\n",
    "- handling multidimensional data\n",
    "- manipulating arrays\n",
    "- we can define the datatype\n",
    "- commonly used with numerical data. But you may use mixed data as well\n",
    "- faster execution\n",
    "- less memory\n",
    "- most of the mathematical functions are available\n",
    "    - linear algebra\n",
    "   "
   ]
  },
  {
   "cell_type": "code",
   "execution_count": 51,
   "metadata": {},
   "outputs": [
    {
     "data": {
      "text/plain": [
       "'1.16.5'"
      ]
     },
     "execution_count": 51,
     "metadata": {},
     "output_type": "execute_result"
    }
   ],
   "source": [
    "# version of numpy\n",
    "import numpy\n",
    "numpy.__version__ # atribute \"__\" - dunder"
   ]
  },
  {
   "cell_type": "code",
   "execution_count": 52,
   "metadata": {},
   "outputs": [],
   "source": [
    "# importing a package with ailas name\n",
    "import numpy as np"
   ]
  },
  {
   "cell_type": "markdown",
   "metadata": {},
   "source": [
    "#### converting existing data into numpy array"
   ]
  },
  {
   "cell_type": "code",
   "execution_count": 55,
   "metadata": {},
   "outputs": [
    {
     "name": "stdout",
     "output_type": "stream",
     "text": [
      "<class 'numpy.ndarray'>\n"
     ]
    }
   ],
   "source": [
    "l=[7,9,0,3,4]\n",
    "array_1d=np.array(l)\n",
    "print(type(array_1d))"
   ]
  },
  {
   "cell_type": "code",
   "execution_count": 54,
   "metadata": {
    "collapsed": true
   },
   "outputs": [
    {
     "data": {
      "text/plain": [
       "['__call__',\n",
       " '__class__',\n",
       " '__delattr__',\n",
       " '__dir__',\n",
       " '__doc__',\n",
       " '__eq__',\n",
       " '__format__',\n",
       " '__ge__',\n",
       " '__getattribute__',\n",
       " '__gt__',\n",
       " '__hash__',\n",
       " '__init__',\n",
       " '__init_subclass__',\n",
       " '__le__',\n",
       " '__lt__',\n",
       " '__module__',\n",
       " '__name__',\n",
       " '__ne__',\n",
       " '__new__',\n",
       " '__qualname__',\n",
       " '__reduce__',\n",
       " '__reduce_ex__',\n",
       " '__repr__',\n",
       " '__self__',\n",
       " '__setattr__',\n",
       " '__sizeof__',\n",
       " '__str__',\n",
       " '__subclasshook__',\n",
       " '__text_signature__']"
      ]
     },
     "execution_count": 54,
     "metadata": {},
     "output_type": "execute_result"
    }
   ],
   "source": [
    "dir(np.array)"
   ]
  },
  {
   "cell_type": "code",
   "execution_count": 56,
   "metadata": {},
   "outputs": [
    {
     "name": "stdout",
     "output_type": "stream",
     "text": [
      "<class 'numpy.ndarray'>\n",
      "[7 9 0 3 4]\n"
     ]
    }
   ],
   "source": [
    "t=(7,9,0,3,4)\n",
    "array_1d=np.array(t)\n",
    "print(type(array_1d))\n",
    "print(array_1d)"
   ]
  },
  {
   "cell_type": "code",
   "execution_count": 59,
   "metadata": {},
   "outputs": [
    {
     "name": "stdout",
     "output_type": "stream",
     "text": [
      "{1: 'harshi', 2: 'kiran'}\n",
      "<class 'numpy.ndarray'>\n"
     ]
    }
   ],
   "source": [
    "d={1:'harshi',2:\"kiran\"}\n",
    "a=np.array(d)\n",
    "print(a)\n",
    "print(type(a))"
   ]
  },
  {
   "cell_type": "markdown",
   "metadata": {},
   "source": [
    "###### Initializing Arrays"
   ]
  },
  {
   "cell_type": "code",
   "execution_count": 60,
   "metadata": {},
   "outputs": [
    {
     "data": {
      "text/plain": [
       "array([0., 0., 0.])"
      ]
     },
     "execution_count": 60,
     "metadata": {},
     "output_type": "execute_result"
    }
   ],
   "source": [
    "np.zeros(3)"
   ]
  },
  {
   "cell_type": "code",
   "execution_count": 61,
   "metadata": {},
   "outputs": [
    {
     "data": {
      "text/plain": [
       "array([[0., 0., 0.],\n",
       "       [0., 0., 0.],\n",
       "       [0., 0., 0.]])"
      ]
     },
     "execution_count": 61,
     "metadata": {},
     "output_type": "execute_result"
    }
   ],
   "source": [
    "np.zeros((3,3))"
   ]
  },
  {
   "cell_type": "code",
   "execution_count": 63,
   "metadata": {},
   "outputs": [
    {
     "name": "stdout",
     "output_type": "stream",
     "text": [
      "float64\n",
      "<class 'numpy.ndarray'>\n"
     ]
    }
   ],
   "source": [
    "array_zeros=np.zeros((3,3))\n",
    "print(array_zeros.dtype)\n",
    "print(type(array_zeros))"
   ]
  },
  {
   "cell_type": "code",
   "execution_count": 65,
   "metadata": {},
   "outputs": [
    {
     "name": "stdout",
     "output_type": "stream",
     "text": [
      "int32\n",
      "<class 'numpy.ndarray'>\n",
      "[[0 0 0 0 0]\n",
      " [0 0 0 0 0]\n",
      " [0 0 0 0 0]\n",
      " [0 0 0 0 0]\n",
      " [0 0 0 0 0]]\n"
     ]
    }
   ],
   "source": [
    "array=np.zeros((5,5),dtype=int)\n",
    "print(array.dtype)\n",
    "print(type(array))\n",
    "print(array)"
   ]
  },
  {
   "cell_type": "code",
   "execution_count": 66,
   "metadata": {},
   "outputs": [
    {
     "name": "stdout",
     "output_type": "stream",
     "text": [
      "int32\n",
      "<class 'numpy.ndarray'>\n",
      "[[1 1 1]\n",
      " [1 1 1]\n",
      " [1 1 1]]\n"
     ]
    }
   ],
   "source": [
    "array_ones=np.ones((3,3),dtype=int)\n",
    "print(array_ones.dtype)\n",
    "print(type(array_ones))\n",
    "print(array_ones)"
   ]
  },
  {
   "cell_type": "code",
   "execution_count": 67,
   "metadata": {},
   "outputs": [
    {
     "name": "stdout",
     "output_type": "stream",
     "text": [
      "bool\n",
      "<class 'numpy.ndarray'>\n",
      "[[ True  True  True]\n",
      " [ True  True  True]\n",
      " [ True  True  True]]\n"
     ]
    }
   ],
   "source": [
    "array_ones=np.ones((3,3),dtype=bool)\n",
    "print(array_ones.dtype)\n",
    "print(type(array_ones))\n",
    "print(array_ones)"
   ]
  },
  {
   "cell_type": "code",
   "execution_count": 68,
   "metadata": {},
   "outputs": [
    {
     "data": {
      "text/plain": [
       "array([[1., 0.],\n",
       "       [0., 1.]])"
      ]
     },
     "execution_count": 68,
     "metadata": {},
     "output_type": "execute_result"
    }
   ],
   "source": [
    "np.eye(2)"
   ]
  },
  {
   "cell_type": "code",
   "execution_count": 69,
   "metadata": {},
   "outputs": [
    {
     "data": {
      "text/plain": [
       "array([[1, 0, 0],\n",
       "       [0, 2, 0],\n",
       "       [0, 0, 3]])"
      ]
     },
     "execution_count": 69,
     "metadata": {},
     "output_type": "execute_result"
    }
   ],
   "source": [
    "np.diag([1,2,3])"
   ]
  },
  {
   "cell_type": "markdown",
   "metadata": {},
   "source": [
    "##### creating arrays with ina specific range"
   ]
  },
  {
   "cell_type": "code",
   "execution_count": 73,
   "metadata": {},
   "outputs": [
    {
     "name": "stdout",
     "output_type": "stream",
     "text": [
      "[0 1 2 3 4 5]\n",
      "[1 2 3 4 5]\n",
      "[1 3 5]\n",
      "[1.  1.5 2.  2.5 3.  3.5 4.  4.5 5.  5.5]\n"
     ]
    }
   ],
   "source": [
    "print(np.arange(6))\n",
    "print(np.arange(1,6))\n",
    "print(np.arange(1,6,2))\n",
    "print(np.arange(1,6,0.5))\n",
    "#print(list(range(1,6,0.5)))"
   ]
  },
  {
   "cell_type": "code",
   "execution_count": 74,
   "metadata": {},
   "outputs": [
    {
     "name": "stdout",
     "output_type": "stream",
     "text": [
      "[1.         1.44444444 1.88888889 2.33333333 2.77777778 3.22222222\n",
      " 3.66666667 4.11111111 4.55555556 5.        ]\n"
     ]
    }
   ],
   "source": [
    "print(np.linspace(1,5,10))"
   ]
  },
  {
   "cell_type": "code",
   "execution_count": 75,
   "metadata": {},
   "outputs": [
    {
     "data": {
      "text/plain": [
       "2"
      ]
     },
     "execution_count": 75,
     "metadata": {},
     "output_type": "execute_result"
    }
   ],
   "source": [
    "np.random.randint(10)"
   ]
  },
  {
   "cell_type": "code",
   "execution_count": 76,
   "metadata": {},
   "outputs": [
    {
     "data": {
      "text/plain": [
       "array([[5, 7, 0],\n",
       "       [4, 5, 7]])"
      ]
     },
     "execution_count": 76,
     "metadata": {},
     "output_type": "execute_result"
    }
   ],
   "source": [
    "np.random.randint(10,size=(2,3))"
   ]
  },
  {
   "cell_type": "code",
   "execution_count": 78,
   "metadata": {},
   "outputs": [
    {
     "data": {
      "text/plain": [
       "array([[790, 125,   5,  39, 827, 418, 418, 665, 270, 920],\n",
       "       [729, 591, 631, 576, 717, 525, 901,  13, 907, 923],\n",
       "       [359,  85, 405, 772, 750, 152, 186, 785,   9, 550],\n",
       "       [724, 698, 783, 942, 885, 325, 746, 269, 824,  47],\n",
       "       [888, 538, 767, 393, 266, 840, 664, 764, 831, 849],\n",
       "       [994, 305,  51, 521, 588, 685, 139, 471, 836, 353],\n",
       "       [802, 378, 787, 321, 637,  68, 900, 987, 946,  34],\n",
       "       [402, 556, 255, 741, 209, 265, 480, 847, 925, 430],\n",
       "       [948, 657, 401,  51, 685, 607,  21, 654, 287, 748],\n",
       "       [107, 523, 261, 282, 110, 685, 765, 719, 731, 196]])"
      ]
     },
     "execution_count": 78,
     "metadata": {},
     "output_type": "execute_result"
    }
   ],
   "source": [
    "multi_array=np.random.randint(1,1000,size=(10,10))\n",
    "multi_array"
   ]
  },
  {
   "cell_type": "code",
   "execution_count": 81,
   "metadata": {},
   "outputs": [
    {
     "name": "stdout",
     "output_type": "stream",
     "text": [
      "int32\n",
      "(5,)\n",
      "1\n",
      "5\n",
      "4\n",
      "20\n",
      "[7 9 0 3 4]\n"
     ]
    }
   ],
   "source": [
    "print(array_1d.dtype) # datatype of the array\n",
    "print(array_1d.shape) # shape as a tuple\n",
    "print(array_1d.ndim) # no of dimensions\n",
    "print(array_1d.size) # n of items in the array\n",
    "print(array_1d.itemsize)# size in bytes\n",
    "print(array_1d.nbytes) # itemsize * no of items\n",
    "print(array_1d)"
   ]
  },
  {
   "cell_type": "markdown",
   "metadata": {},
   "source": [
    "###### updating the values in an array"
   ]
  },
  {
   "cell_type": "code",
   "execution_count": 82,
   "metadata": {},
   "outputs": [
    {
     "data": {
      "text/plain": [
       "array([7, 9, 0, 3, 4])"
      ]
     },
     "execution_count": 82,
     "metadata": {},
     "output_type": "execute_result"
    }
   ],
   "source": [
    "array_1d"
   ]
  },
  {
   "cell_type": "code",
   "execution_count": 83,
   "metadata": {},
   "outputs": [
    {
     "data": {
      "text/plain": [
       "array([7, 3, 0, 3, 4])"
      ]
     },
     "execution_count": 83,
     "metadata": {},
     "output_type": "execute_result"
    }
   ],
   "source": [
    "array_1d[1] = 3\n",
    "array_1d"
   ]
  },
  {
   "cell_type": "code",
   "execution_count": 84,
   "metadata": {},
   "outputs": [
    {
     "data": {
      "text/plain": [
       "array([[5., 5., 5.],\n",
       "       [0., 0., 0.],\n",
       "       [0., 0., 0.]])"
      ]
     },
     "execution_count": 84,
     "metadata": {},
     "output_type": "execute_result"
    }
   ],
   "source": [
    "array_zeros[0] = 5\n",
    "array_zeros"
   ]
  },
  {
   "cell_type": "code",
   "execution_count": 85,
   "metadata": {},
   "outputs": [
    {
     "name": "stdout",
     "output_type": "stream",
     "text": [
      "7\n"
     ]
    }
   ],
   "source": [
    "# check for loop with 1d and 2d arrays\n",
    "for i in array_1d:\n",
    "    print(i)\n",
    "    break"
   ]
  },
  {
   "cell_type": "code",
   "execution_count": 86,
   "metadata": {},
   "outputs": [
    {
     "name": "stdout",
     "output_type": "stream",
     "text": [
      "[5. 5. 5.]\n"
     ]
    }
   ],
   "source": [
    "for i in array_zeros:\n",
    "    print(i)\n",
    "    break"
   ]
  },
  {
   "cell_type": "markdown",
   "metadata": {},
   "source": [
    "### Mathematical operations"
   ]
  },
  {
   "cell_type": "code",
   "execution_count": 87,
   "metadata": {},
   "outputs": [
    {
     "name": "stdout",
     "output_type": "stream",
     "text": [
      "[10 12 14 16 18 20 22 24 26 28]\n",
      "[-10 -10 -10 -10 -10 -10 -10 -10 -10 -10]\n",
      "[0.         0.09090909 0.16666667 0.23076923 0.28571429 0.33333333\n",
      " 0.375      0.41176471 0.44444444 0.47368421]\n",
      "[  0  11  24  39  56  75  96 119 144 171]\n",
      "[0 0 0 0 0 0 0 0 0 0]\n",
      "[0 0 0 1 2 0 4 3 2 1]\n",
      "[ 0  1  4  9 16 25 36 49 64 81]\n"
     ]
    },
    {
     "name": "stderr",
     "output_type": "stream",
     "text": [
      "C:\\Users\\lenovo\\Anaconda3\\lib\\site-packages\\ipykernel_launcher.py:8: RuntimeWarning: divide by zero encountered in remainder\n",
      "  \n"
     ]
    }
   ],
   "source": [
    "a= np.arange(10)\n",
    "b= np.arange(10,20)\n",
    "print(a+b)\n",
    "print(a-b)\n",
    "print(a/b)\n",
    "print(a*b)\n",
    "print(a//b)\n",
    "print(b%a)\n",
    "print(a**2)"
   ]
  },
  {
   "cell_type": "code",
   "execution_count": 88,
   "metadata": {},
   "outputs": [
    {
     "name": "stdout",
     "output_type": "stream",
     "text": [
      "[False False False False False False  True  True  True  True]\n",
      "[False False False False False  True False False False False]\n",
      "[ True  True  True  True  True False False False False False]\n"
     ]
    }
   ],
   "source": [
    "print(a>5)\n",
    "print(a==5)\n",
    "print(a<5)"
   ]
  },
  {
   "cell_type": "code",
   "execution_count": 1,
   "metadata": {},
   "outputs": [
    {
     "data": {
      "text/plain": [
       "False"
      ]
     },
     "execution_count": 1,
     "metadata": {},
     "output_type": "execute_result"
    }
   ],
   "source": [
    "\"big\">\"small\""
   ]
  },
  {
   "cell_type": "code",
   "execution_count": 2,
   "metadata": {},
   "outputs": [
    {
     "data": {
      "text/plain": [
       "1"
      ]
     },
     "execution_count": 2,
     "metadata": {},
     "output_type": "execute_result"
    }
   ],
   "source": [
    "11%5"
   ]
  },
  {
   "cell_type": "code",
   "execution_count": 3,
   "metadata": {},
   "outputs": [
    {
     "data": {
      "text/plain": [
       "True"
      ]
     },
     "execution_count": 3,
     "metadata": {},
     "output_type": "execute_result"
    }
   ],
   "source": [
    "((10 >= 5*2) and (10 <= 5*2))"
   ]
  },
  {
   "cell_type": "code",
   "execution_count": 4,
   "metadata": {},
   "outputs": [
    {
     "ename": "TabError",
     "evalue": "inconsistent use of tabs and spaces in indentation (<ipython-input-4-ea94ad8d1960>, line 5)",
     "output_type": "error",
     "traceback": [
      "\u001b[1;36m  File \u001b[1;32m\"<ipython-input-4-ea94ad8d1960>\"\u001b[1;36m, line \u001b[1;32m5\u001b[0m\n\u001b[1;33m    while n!=0:\u001b[0m\n\u001b[1;37m               ^\u001b[0m\n\u001b[1;31mTabError\u001b[0m\u001b[1;31m:\u001b[0m inconsistent use of tabs and spaces in indentation\n"
     ]
    }
   ],
   "source": [
    "The counter function counts down from start to stop when start is bigger than stop, and counts up from start to stop otherwise. Fill in the blanks to make this work correctly."
   ]
  },
  {
   "cell_type": "code",
   "execution_count": 17,
   "metadata": {},
   "outputs": [
    {
     "ename": "IndentationError",
     "evalue": "unindent does not match any outer indentation level (<tokenize>, line 9)",
     "output_type": "error",
     "traceback": [
      "\u001b[1;36m  File \u001b[1;32m\"<tokenize>\"\u001b[1;36m, line \u001b[1;32m9\u001b[0m\n\u001b[1;33m    return count\u001b[0m\n\u001b[1;37m    ^\u001b[0m\n\u001b[1;31mIndentationError\u001b[0m\u001b[1;31m:\u001b[0m unindent does not match any outer indentation level\n"
     ]
    }
   ],
   "source": [
    "def digits(n):\n",
    "\tcount = 0\n",
    "\tif n == 0:\n",
    "        print('1')\n",
    "\twhile n!=0:\n",
    "        r=n%10\n",
    "        count=count+1\n",
    "         n=n//10\n",
    "    return count\n",
    "\n",
    "print(digits(25))   # Should print 2\n",
    "print(digits(144))  # Should print 3\n",
    "print(digits(1000)) # Should print 4\n",
    "print(digits(0))    # Should print 1"
   ]
  },
  {
   "cell_type": "code",
   "execution_count": 18,
   "metadata": {},
   "outputs": [
    {
     "name": "stdout",
     "output_type": "stream",
     "text": [
      "0\n",
      "0\n",
      "1\n",
      "0\n",
      "1\n",
      "2\n",
      "0\n",
      "1\n",
      "2\n",
      "3\n",
      "0\n",
      "1\n",
      "2\n",
      "3\n",
      "4\n",
      "0\n",
      "1\n",
      "2\n",
      "3\n",
      "4\n",
      "5\n",
      "0\n",
      "1\n",
      "2\n",
      "3\n",
      "4\n",
      "5\n",
      "6\n",
      "0\n",
      "1\n",
      "2\n",
      "3\n",
      "4\n",
      "5\n",
      "6\n",
      "7\n",
      "0\n",
      "1\n",
      "2\n",
      "3\n",
      "4\n",
      "5\n",
      "6\n",
      "7\n",
      "8\n"
     ]
    }
   ],
   "source": [
    "for x in range(10):\n",
    "    for y in range(x):\n",
    "        print(y)"
   ]
  },
  {
   "cell_type": "code",
   "execution_count": null,
   "metadata": {},
   "outputs": [],
   "source": []
  }
 ],
 "metadata": {
  "kernelspec": {
   "display_name": "Python 3",
   "language": "python",
   "name": "python3"
  },
  "language_info": {
   "codemirror_mode": {
    "name": "ipython",
    "version": 3
   },
   "file_extension": ".py",
   "mimetype": "text/x-python",
   "name": "python",
   "nbconvert_exporter": "python",
   "pygments_lexer": "ipython3",
   "version": "3.7.4"
  }
 },
 "nbformat": 4,
 "nbformat_minor": 2
}
